{
  "nbformat": 4,
  "nbformat_minor": 0,
  "metadata": {
    "kernelspec": {
      "name": "python3",
      "display_name": "Python 3"
    },
    "language_info": {
      "codemirror_mode": {
        "name": "ipython",
        "version": 3
      },
      "file_extension": ".py",
      "mimetype": "text/x-python",
      "name": "python",
      "nbconvert_exporter": "python",
      "pygments_lexer": "ipython3",
      "version": "3.7.3"
    },
    "nav_menu": {
      "height": "264px",
      "width": "369px"
    },
    "toc": {
      "navigate_menu": true,
      "number_sections": true,
      "sideBar": true,
      "threshold": 6,
      "toc_cell": false,
      "toc_section_display": "block",
      "toc_window_display": false
    },
    "colab": {
      "provenance": [],
      "collapsed_sections": [
        "Jy5f7p4SGizB"
      ]
    }
  },
  "cells": [
    {
      "cell_type": "markdown",
      "metadata": {
        "id": "IF6Lm26UO4TQ"
      },
      "source": [
        "\n",
        "<center><b>© Content is made available under the CC-BY-NC-ND 4.0 license. Christian Lopez, lopezbec@lafayette.edu<b><center>"
      ]
    },
    {
      "cell_type": "markdown",
      "source": [
        "<table align=\"left\">\n",
        "  <td>\n",
        "    <a href=\"https://colab.research.google.com/github/lopezbec/intro_python_notebooks/blob/master/Perceptrons_and_NN_with_Keras.ipynb\" target=\"_parent\"><img src=\"https://colab.research.google.com/assets/colab-badge.svg\" alt=\"Open In Colab\"/></a>\n",
        "  </td>\n",
        "  <td>\n",
        "         </table>\n",
        "          <br><br></br>\n"
      ],
      "metadata": {
        "id": "aXlB_IAuVN5N"
      }
    },
    {
      "cell_type": "markdown",
      "metadata": {
        "id": "_HuUEdPgNCSo"
      },
      "source": [
        "#Implementing NN with PyTorch\n",
        "\n",
        "This Notebook will give you an introduction on how to train a Neural Network using PyTorch.  \n",
        "\n",
        "In this Notebook you will learn:\n",
        "\n",
        "- How to implement a Perceptron\n",
        "- How to implement multiple activation function and algorithmically get their derivatives\n",
        "- How to build, train, and test a NN for image classification\n",
        "\n",
        "Most of the notebooks we are going to be using are inspired from existing notebooks that are available online and are made free for educational purposes. Nonetheless, these notebooks should not be share without prior permission of the instructor. When working in an assignment always remember the [Student Code of Conduct](https://conduct.lafayette.edu/student-handbook/student-code-of-conduct/).\n",
        "\n",
        "*The following sections were inspired and uses some of the code and text from the book:\n",
        "\n",
        "Géron, A. (2019) 2nd Ed. Hands-on machine learning with Scikit-Learn and TensorFlow: concepts, tools, and techniques to build intelligent systems. O'Reilly Media, Inc.( ISBN-10: 1491962291) [Chapter 10](https://github.com/ageron/handson-ml2/blob/master/10_neural_nets_with_keras.ipynb)\n"
      ]
    },
    {
      "cell_type": "markdown",
      "metadata": {
        "id": "CoL940bWO4Ta"
      },
      "source": [
        "# Setup"
      ]
    },
    {
      "cell_type": "code",
      "metadata": {
        "id": "gVSnGN77O4Tg"
      },
      "source": [
        "# Python ≥3.5 is required\n",
        "import sys\n",
        "assert sys.version_info >= (3, 5)\n",
        "\n",
        "# Scikit-Learn ≥0.20 is required\n",
        "import sklearn\n",
        "assert sklearn.__version__ >= \"0.20\"\n",
        "\n",
        "# Common imports\n",
        "import numpy as np\n",
        "import os\n",
        "\n",
        "# to make this notebook's output stable across runs\n",
        "np.random.seed(42)\n",
        "\n",
        "import time\n",
        "\n",
        "# To plot pretty figures\n",
        "%matplotlib inline\n",
        "import matplotlib as mpl\n",
        "import matplotlib.pyplot as plt\n",
        "mpl.rc('axes', labelsize=14)\n",
        "mpl.rc('xtick', labelsize=12)\n",
        "mpl.rc('ytick', labelsize=12)\n",
        "\n",
        "\n",
        "# Ignore useless warnings (see SciPy issue #5998)\n",
        "import warnings\n",
        "warnings.filterwarnings(action=\"ignore\", message=\"^internal gelsd\")\n",
        "import logging\n",
        "\n",
        "os.environ['TF_CPP_MIN_LOG_LEVEL'] = '3'  # FATAL"
      ],
      "execution_count": 1,
      "outputs": []
    },
    {
      "cell_type": "markdown",
      "metadata": {
        "id": "vT2scaYRO4Tr"
      },
      "source": [
        "#1- Perceptrons"
      ]
    },
    {
      "cell_type": "markdown",
      "metadata": {
        "id": "uh-KD05gQVFn"
      },
      "source": [
        "The Perceptron is one of the simplest ANN architectures. It is based on a slightly different artificial neuron called a threshold logic unit (TLU), or sometimes a linear threshold unit (LTU). The most common step function used in Perceptrons is the [Heaviside step function](https://en.wikipedia.org/wiki/Heaviside_step_function), sometimes the [sign function](https://en.wikipedia.org/wiki/Sign_function) is used instead."
      ]
    },
    {
      "cell_type": "markdown",
      "metadata": {
        "id": "7kAtJIPTSqQC"
      },
      "source": [
        "We can use the [Perceptron method](https://scikit-learn.org/stable/modules/generated/sklearn.linear_model.Perceptron.html) from sklearn to implement a percentron for classification."
      ]
    },
    {
      "cell_type": "markdown",
      "metadata": {
        "id": "c6MlfNSJUgwI"
      },
      "source": [
        "#### **Exercise**:"
      ]
    },
    {
      "cell_type": "markdown",
      "metadata": {
        "id": "HTEGJzYWUmfl"
      },
      "source": [
        "Read the documentation of the [Perceptron method](https://scikit-learn.org/stable/modules/generated/sklearn.linear_model.Perceptron.html) from sklearn and train a clasification model (fit the parameter to max X to y).\n",
        "\n",
        "**Hint**: Look at the \"fit\" method and pay attention to the dimensions of the arrays/inputs!!!!"
      ]
    },
    {
      "cell_type": "code",
      "metadata": {
        "id": "MV2Q-KPjO4Tw",
        "colab": {
          "base_uri": "https://localhost:8080/"
        },
        "outputId": "d5145e6d-f243-4622-e943-d200fef981ab"
      },
      "source": [
        "import numpy as np\n",
        "from sklearn.datasets import load_iris\n",
        "from sklearn.linear_model import Perceptron\n",
        "\n",
        "iris = load_iris()\n",
        "X = iris.data[:, (2, 3)]  # petal length, petal width\n",
        "\n",
        "#Lets transform the data to a bynary clasification problem (Iris-Setosa or not)\n",
        "y = (iris.target == 0).astype(int).reshape(-1,1)\n",
        "\n",
        "per_clf = Perceptron(tol=1e-3, random_state=42)\n",
        "\n",
        "###==== START CODE HERE ====### (≈ 1 lines of code)\n",
        "y_pred = per_clf.fit(X,y)\n",
        "\n",
        "###==== END CODE HERE ====###\n",
        "\n",
        "\n",
        "y_pred = per_clf.predict([X[0,:]])\n",
        "print(\"The predicted outcome is: \",y_pred[0], \"and the ground truth is:\", y[0,0])"
      ],
      "execution_count": 2,
      "outputs": [
        {
          "output_type": "stream",
          "name": "stdout",
          "text": [
            "The predicted outcome is:  1 and the ground truth is: 1\n"
          ]
        },
        {
          "output_type": "stream",
          "name": "stderr",
          "text": [
            "/usr/local/lib/python3.11/dist-packages/sklearn/utils/validation.py:1408: DataConversionWarning: A column-vector y was passed when a 1d array was expected. Please change the shape of y to (n_samples, ), for example using ravel().\n",
            "  y = column_or_1d(y, warn=True)\n"
          ]
        }
      ]
    },
    {
      "cell_type": "markdown",
      "metadata": {
        "id": "76iLgMgAWIxP"
      },
      "source": [
        "**Expected Output**:\n",
        "       \n",
        "```\n",
        "The predicted outcome is:  1 and the ground truth is: 1\n",
        "```"
      ]
    },
    {
      "cell_type": "code",
      "metadata": {
        "id": "7reIsWJ2O4UH",
        "colab": {
          "base_uri": "https://localhost:8080/",
          "height": 404
        },
        "outputId": "ebdd2a51-f15f-4930-f4b0-a46e4d01dd14"
      },
      "source": [
        "a = -per_clf.coef_[0][0] / per_clf.coef_[0][1]\n",
        "b = -per_clf.intercept_ / per_clf.coef_[0][1]\n",
        "y=y.flatten()\n",
        "\n",
        "axes = [0, 5, 0, 2]\n",
        "\n",
        "x0, x1 = np.meshgrid(\n",
        "        np.linspace(axes[0], axes[1], 500).reshape(-1, 1),\n",
        "        np.linspace(axes[2], axes[3], 200).reshape(-1, 1),\n",
        "    )\n",
        "X_new = np.c_[x0.ravel(), x1.ravel()]\n",
        "y_predict = per_clf.predict(X_new)\n",
        "zz = y_predict.reshape(x0.shape)\n",
        "\n",
        "plt.figure(figsize=(10, 4))\n",
        "plt.plot(X[y==0, 0], X[y==0, 1], \"bs\", label=\"Not Iris-Setosa\")\n",
        "plt.plot(X[y==1, 0], X[y==1, 1], \"yo\", label=\"Iris-Setosa\")\n",
        "\n",
        "plt.plot([axes[0], axes[1]], [a * axes[0] + b, a * axes[1] + b], \"k-\", linewidth=3)\n",
        "from matplotlib.colors import ListedColormap\n",
        "custom_cmap = ListedColormap(['#9898ff', '#fafab0'])\n",
        "\n",
        "plt.contourf(x0, x1, zz, cmap=custom_cmap)\n",
        "plt.xlabel(\"Petal length\", fontsize=14)\n",
        "plt.ylabel(\"Petal width\", fontsize=14)\n",
        "plt.legend(loc=\"lower right\", fontsize=14)\n",
        "plt.axis(axes)\n",
        "plt.show()"
      ],
      "execution_count": 3,
      "outputs": [
        {
          "output_type": "display_data",
          "data": {
            "text/plain": [
              "<Figure size 1000x400 with 1 Axes>"
            ],
            "image/png": "[encoded data removed]"
          },
          "metadata": {}
        }
      ]
    },
    {
      "cell_type": "markdown",
      "metadata": {
        "id": "DAGkEESuO4UR"
      },
      "source": [
        "# 2- Activation functions"
      ]
    },
    {
      "cell_type": "markdown",
      "metadata": {
        "id": "1Mc6gEBCXRMi"
      },
      "source": [
        "We have learned multiple activation functions, like:\n",
        "\n",
        "$$sigmoid(z) = \\frac{1}{1+e^{-z}}$$\n",
        "\n",
        "\n",
        "$$tanh(z) = \\frac{e^{z}- e^{-z}}{e^{z}+ e^{-z}}$$\n",
        "\n",
        "\n",
        "$$ReLu(z) = max{(0,z)}$$\n",
        "\n",
        "\n",
        "$$LeakyReLu(a,z) = max{(az,z)}$$"
      ]
    },
    {
      "cell_type": "markdown",
      "metadata": {
        "id": "7QTYsclgqPLz"
      },
      "source": [
        "While we can mathematically get the derivatives of these activation functions, we can also algorithmically calculate the slope of g(z) at any point by taking a very small step to the right and left of z and calculating the slope of the function, like:\n",
        "\n",
        "$$g'(z)=\\frac{g(z+ \\epsilon)-g(z- \\epsilon)}{2 \\times \\epsilon}$$\n"
      ]
    },
    {
      "cell_type": "markdown",
      "metadata": {
        "id": "H9X5L06Z2sTk"
      },
      "source": [
        "#### **Exercise**:"
      ]
    },
    {
      "cell_type": "markdown",
      "metadata": {
        "id": "zXhaJCTC2v0y"
      },
      "source": [
        "Complete the following function declarations:"
      ]
    },
    {
      "cell_type": "code",
      "metadata": {
        "id": "xBDqfCZpO4UU"
      },
      "source": [
        "def sigmoid(z):\n",
        "    return 1 / (1 + np.exp(-z))\n",
        "\n",
        "\n",
        "def tanh(z):\n",
        "###==== START CODE HERE ====### (≈ 1 lines of code)\n",
        "    return (np.exp(z) - np.exp(-z))/(np.exp(z) + np.exp(-z))\n",
        "\n",
        "###==== END CODE HERE ====###\n",
        "\n",
        "def ReLu(z):\n",
        "###==== START CODE HERE ====### (≈ 1 lines of code)\n",
        "    return np.maximum(0,z)\n",
        "\n",
        "###==== END CODE HERE ====###\n",
        "\n",
        "def LeakyRelu(z,a=0.1):   #a=0.1 to make it easly to vizualize the differntece, a better values would be 0.001\n",
        "###==== START CODE HERE ====### (≈ 1 lines of code)\n",
        "    return np.maximum(a * z, z)\n",
        "\n",
        "###==== END CODE HERE ====###\n",
        "\n",
        "def derivative(f, z, eps=0.000001):\n",
        "###==== START CODE HERE ====### (≈ 1 lines of code)\n",
        "    return (f(z + eps) - f(z - eps))/(2 * eps)\n",
        "\n",
        "###==== END CODE HERE ====###"
      ],
      "execution_count": 4,
      "outputs": []
    },
    {
      "cell_type": "code",
      "metadata": {
        "id": "vk8JRI80O4Ud",
        "colab": {
          "base_uri": "https://localhost:8080/",
          "height": 396
        },
        "outputId": "d2a47c0f-6acc-44a2-9551-f3c763e8231a"
      },
      "source": [
        "z = np.linspace(-5, 5, 200)\n",
        "\n",
        "plt.figure(figsize=(11,4))\n",
        "\n",
        "plt.subplot(121)\n",
        "plt.plot(z, np.sign(z), \"r-\", linewidth=1, label=\"Step\")\n",
        "plt.plot(z, sigmoid(z), \"g--\", linewidth=2, label=\"Sigmoid\")\n",
        "plt.plot(z, tanh(z), \"b-\", linewidth=2, label=\"Tanh\")\n",
        "plt.plot(z, ReLu(z), \"m-.\", linewidth=2, label=\"ReLU\")\n",
        "plt.plot(z, LeakyRelu(z), \"m--\", linewidth=2, label=\"LeakyRelu\")\n",
        "plt.grid(True)\n",
        "plt.legend(loc=\"center right\", fontsize=14)\n",
        "plt.title(\"Activation functions\", fontsize=14)\n",
        "plt.axis([-5, 5, -1.2, 1.2])\n",
        "\n",
        "plt.subplot(122)\n",
        "plt.plot(z, derivative(np.sign, z), \"r-\", linewidth=1, label=\"Step\")\n",
        "plt.plot(0, 0, \"ro\", markersize=5)\n",
        "plt.plot(0, 0, \"rx\", markersize=10)\n",
        "plt.plot(z, derivative(sigmoid, z), \"g--\", linewidth=2, label=\"Sigmoid\")\n",
        "plt.plot(z, derivative(tanh, z), \"b-\", linewidth=2, label=\"Tanh\")\n",
        "plt.plot(z, derivative(ReLu, z), \"m-.\", linewidth=2, label=\"ReLU\")\n",
        "plt.plot(z, derivative(LeakyRelu, z), \"m--\", linewidth=2, label=\"LeakyRelu\")\n",
        "plt.grid(True)\n",
        "#plt.legend(loc=\"center right\", fontsize=14)\n",
        "plt.title(\"Derivatives\", fontsize=14)\n",
        "plt.axis([-5, 5, -0.2, 1.2])\n",
        "plt.show()"
      ],
      "execution_count": 5,
      "outputs": [
        {
          "output_type": "display_data",
          "data": {
            "text/plain": [
              "<Figure size 1100x400 with 2 Axes>"
            ],
            "image/png": "[encoded data removed]"
          },
          "metadata": {}
        }
      ]
    },
    {
      "cell_type": "markdown",
      "metadata": {
        "id": "1Aw6A4SwO4Ux"
      },
      "source": [
        "# 3- Building an NN with PyTorch for Image Classification"
      ]
    },
    {
      "cell_type": "markdown",
      "metadata": {
        "id": "xaVcEOUVYVDL"
      },
      "source": [
        "### 3.1- Importing PyTorch"
      ]
    },
    {
      "cell_type": "code",
      "metadata": {
        "id": "Ut3MQvktO4U2",
        "colab": {
          "base_uri": "https://localhost:8080/"
        },
        "outputId": "3ef3e7a4-ebee-40d6-da6c-c622034e07bd"
      },
      "source": [
        "import torch\n",
        "import torch.nn as nn\n",
        "!pip install torchsummary torchviz graphviz\n",
        "from torchsummary import summary\n",
        "from torchviz import make_dot\n",
        "from IPython.display import Image\n",
        "from torchvision import datasets, transforms\n",
        "from torch.utils.data import TensorDataset, DataLoader\n",
        "import torch.optim as optim\n",
        "import copy"
      ],
      "execution_count": 6,
      "outputs": [
        {
          "output_type": "stream",
          "name": "stdout",
          "text": [
            "Requirement already satisfied: torchsummary in /usr/local/lib/python3.11/dist-packages (1.5.1)\n",
            "Requirement already satisfied: torchviz in /usr/local/lib/python3.11/dist-packages (0.0.3)\n",
            "Requirement already satisfied: graphviz in /usr/local/lib/python3.11/dist-packages (0.20.3)\n",
            "Requirement already satisfied: torch in /usr/local/lib/python3.11/dist-packages (from torchviz) (2.6.0+cu124)\n",
            "Requirement already satisfied: filelock in /usr/local/lib/python3.11/dist-packages (from torch->torchviz) (3.18.0)\n",
            "Requirement already satisfied: typing-extensions>=4.10.0 in /usr/local/lib/python3.11/dist-packages (from torch->torchviz) (4.13.2)\n",
            "Requirement already satisfied: networkx in /usr/local/lib/python3.11/dist-packages (from torch->torchviz) (3.4.2)\n",
            "Requirement already satisfied: jinja2 in /usr/local/lib/python3.11/dist-packages (from torch->torchviz) (3.1.6)\n",
            "Requirement already satisfied: fsspec in /usr/local/lib/python3.11/dist-packages (from torch->torchviz) (2025.3.2)\n",
            "Requirement already satisfied: nvidia-cuda-nvrtc-cu12==12.4.127 in /usr/local/lib/python3.11/dist-packages (from torch->torchviz) (12.4.127)\n",
            "Requirement already satisfied: nvidia-cuda-runtime-cu12==12.4.127 in /usr/local/lib/python3.11/dist-packages (from torch->torchviz) (12.4.127)\n",
            "Requirement already satisfied: nvidia-cuda-cupti-cu12==12.4.127 in /usr/local/lib/python3.11/dist-packages (from torch->torchviz) (12.4.127)\n",
            "Requirement already satisfied: nvidia-cudnn-cu12==9.1.0.70 in /usr/local/lib/python3.11/dist-packages (from torch->torchviz) (9.1.0.70)\n",
            "Requirement already satisfied: nvidia-cublas-cu12==12.4.5.8 in /usr/local/lib/python3.11/dist-packages (from torch->torchviz) (12.4.5.8)\n",
            "Requirement already satisfied: nvidia-cufft-cu12==11.2.1.3 in /usr/local/lib/python3.11/dist-packages (from torch->torchviz) (11.2.1.3)\n",
            "Requirement already satisfied: nvidia-curand-cu12==10.3.5.147 in /usr/local/lib/python3.11/dist-packages (from torch->torchviz) (10.3.5.147)\n",
            "Requirement already satisfied: nvidia-cusolver-cu12==11.6.1.9 in /usr/local/lib/python3.11/dist-packages (from torch->torchviz) (11.6.1.9)\n",
            "Requirement already satisfied: nvidia-cusparse-cu12==12.3.1.170 in /usr/local/lib/python3.11/dist-packages (from torch->torchviz) (12.3.1.170)\n",
            "Requirement already satisfied: nvidia-cusparselt-cu12==0.6.2 in /usr/local/lib/python3.11/dist-packages (from torch->torchviz) (0.6.2)\n",
            "Requirement already satisfied: nvidia-nccl-cu12==2.21.5 in /usr/local/lib/python3.11/dist-packages (from torch->torchviz) (2.21.5)\n",
            "Requirement already satisfied: nvidia-nvtx-cu12==12.4.127 in /usr/local/lib/python3.11/dist-packages (from torch->torchviz) (12.4.127)\n",
            "Requirement already satisfied: nvidia-nvjitlink-cu12==12.4.127 in /usr/local/lib/python3.11/dist-packages (from torch->torchviz) (12.4.127)\n",
            "Requirement already satisfied: triton==3.2.0 in /usr/local/lib/python3.11/dist-packages (from torch->torchviz) (3.2.0)\n",
            "Requirement already satisfied: sympy==1.13.1 in /usr/local/lib/python3.11/dist-packages (from torch->torchviz) (1.13.1)\n",
            "Requirement already satisfied: mpmath<1.4,>=1.1.0 in /usr/local/lib/python3.11/dist-packages (from sympy==1.13.1->torch->torchviz) (1.3.0)\n",
            "Requirement already satisfied: MarkupSafe>=2.0 in /usr/local/lib/python3.11/dist-packages (from jinja2->torch->torchviz) (3.0.2)\n"
          ]
        }
      ]
    },
    {
      "cell_type": "code",
      "source": [
        "torch.__version__"
      ],
      "metadata": {
        "colab": {
          "base_uri": "https://localhost:8080/",
          "height": 35
        },
        "id": "f5iqu1MUiR3f",
        "outputId": "33dc44fe-49bb-4ff8-e68a-b07552f82181"
      },
      "execution_count": 7,
      "outputs": [
        {
          "output_type": "execute_result",
          "data": {
            "text/plain": [
              "'2.6.0+cu124'"
            ],
            "application/vnd.google.colaboratory.intrinsic+json": {
              "type": "string"
            }
          },
          "metadata": {},
          "execution_count": 7
        }
      ]
    },
    {
      "cell_type": "markdown",
      "metadata": {
        "id": "00I89R00YhSq"
      },
      "source": [
        "### 3.2- The Dataset"
      ]
    },
    {
      "cell_type": "markdown",
      "metadata": {
        "id": "0Sgaflt2O4VH"
      },
      "source": [
        "Let's start by loading the fashion MNIST dataset. PyTorch has a number of functions to load popular datasets. The dataset is already split for you between a training set and a test set, but it can be useful to split the training set further to have a validation set:"
      ]
    },
    {
      "cell_type": "code",
      "metadata": {
        "id": "MqAUiXDqO4VJ"
      },
      "source": [
        "# Transform\n",
        "transform = transforms.Compose([\n",
        "    transforms.ToTensor(),  # Converts to [0,1] range\n",
        "])\n",
        "\n",
        "# Load datasets\n",
        "train_dataset = datasets.FashionMNIST(root='.', train=True, download=True, transform=transform)\n",
        "test_dataset = datasets.FashionMNIST(root='.', train=False, download=True, transform=transform)\n",
        "\n",
        "# Access raw data if needed like X_train_full, y_train_full:\n",
        "X_train_full = train_dataset.data      # shape: [60000, 28, 28]\n",
        "y_train_full = train_dataset.targets   # shape: [60000]\n",
        "X_test = test_dataset.data             # shape: [10000, 28, 28]\n",
        "y_test = test_dataset.targets          # shape: [10000]"
      ],
      "execution_count": 8,
      "outputs": []
    },
    {
      "cell_type": "markdown",
      "metadata": {
        "id": "Z4t7yVEyO4VO"
      },
      "source": [
        "The training set contains 60,000 grayscale images, each 28x28 pixels:"
      ]
    },
    {
      "cell_type": "code",
      "metadata": {
        "id": "hcpgVZ0ZO4VP",
        "colab": {
          "base_uri": "https://localhost:8080/"
        },
        "outputId": "5318cdef-5cd6-4207-d836-f10ccc509900"
      },
      "source": [
        "X_train_full.shape"
      ],
      "execution_count": 9,
      "outputs": [
        {
          "output_type": "execute_result",
          "data": {
            "text/plain": [
              "torch.Size([60000, 28, 28])"
            ]
          },
          "metadata": {},
          "execution_count": 9
        }
      ]
    },
    {
      "cell_type": "markdown",
      "metadata": {
        "id": "8zGDwy0aO4VU"
      },
      "source": [
        "Each pixel intensity is represented as a byte (0 to 255) since in a 8 bits we can get [total number of 256 possible combinations](https://user.eng.umd.edu/~nsw/chbe250/number.htm):"
      ]
    },
    {
      "cell_type": "code",
      "metadata": {
        "id": "4d0Uzm5fO4VV",
        "colab": {
          "base_uri": "https://localhost:8080/"
        },
        "outputId": "e4018a7f-d66d-440d-c871-094be50c21df"
      },
      "source": [
        "X_train_full.dtype   #8-bit unsigned integer =uint8"
      ],
      "execution_count": 10,
      "outputs": [
        {
          "output_type": "execute_result",
          "data": {
            "text/plain": [
              "torch.uint8"
            ]
          },
          "metadata": {},
          "execution_count": 10
        }
      ]
    },
    {
      "cell_type": "markdown",
      "metadata": {
        "id": "Jb9MXu8fYmvC"
      },
      "source": [
        "#### 3.2.1- Splitting the dataset"
      ]
    },
    {
      "cell_type": "markdown",
      "metadata": {
        "id": "yom1ZpOkO4VZ"
      },
      "source": [
        "Let's split the full training set into a validation set and a (smaller) training set. We also scale the pixel intensities down to the 0-1 range and convert them to floats, by dividing by 255."
      ]
    },
    {
      "cell_type": "code",
      "metadata": {
        "id": "YDJQ143LO4Va"
      },
      "source": [
        "X_valid, X_train = X_train_full[:5000] / 255., X_train_full[5000:] / 255.\n",
        "y_valid, y_train = y_train_full[:5000], y_train_full[5000:]\n",
        "X_test = X_test / 255."
      ],
      "execution_count": 11,
      "outputs": []
    },
    {
      "cell_type": "markdown",
      "metadata": {
        "id": "phsRVGzmO4Vg"
      },
      "source": [
        "You can plot an image using Matplotlib's `imshow()` function, with a `'binary'`\n",
        " color map:"
      ]
    },
    {
      "cell_type": "code",
      "metadata": {
        "id": "Eu298vsiO4Vh",
        "colab": {
          "base_uri": "https://localhost:8080/",
          "height": 406
        },
        "outputId": "773767a6-c1b3-49a1-9e1d-e152b8d88202"
      },
      "source": [
        "plt.imshow(X_train[3], cmap=\"binary\")\n",
        "plt.axis('off')\n",
        "plt.show()"
      ],
      "execution_count": 12,
      "outputs": [
        {
          "output_type": "display_data",
          "data": {
            "text/plain": [
              "<Figure size 640x480 with 1 Axes>"
            ],
            "image/png": "[encoded data removed]"
          },
          "metadata": {}
        }
      ]
    },
    {
      "cell_type": "markdown",
      "metadata": {
        "id": "CKfC6XGTO4Vl"
      },
      "source": [
        "The labels are the class IDs (represented as uint8), from 0 to 9:"
      ]
    },
    {
      "cell_type": "code",
      "metadata": {
        "id": "p3mMa9lWO4Vm",
        "colab": {
          "base_uri": "https://localhost:8080/"
        },
        "outputId": "5b0e5b6f-401e-4efa-90ef-2250d6c39b9d"
      },
      "source": [
        "y_train"
      ],
      "execution_count": 13,
      "outputs": [
        {
          "output_type": "execute_result",
          "data": {
            "text/plain": [
              "tensor([4, 0, 7,  ..., 3, 0, 5])"
            ]
          },
          "metadata": {},
          "execution_count": 13
        }
      ]
    },
    {
      "cell_type": "markdown",
      "metadata": {
        "id": "wKlvvVvjO4Vr"
      },
      "source": [
        "Here are the corresponding class names:"
      ]
    },
    {
      "cell_type": "code",
      "metadata": {
        "id": "Bh_a_S08O4Vt"
      },
      "source": [
        "class_names = [\"T-shirt/top\", \"Trouser\", \"Pullover\", \"Dress\", \"Coat\",\n",
        "               \"Sandal\", \"Shirt\", \"Sneaker\", \"Bag\", \"Ankle boot\"]"
      ],
      "execution_count": 14,
      "outputs": []
    },
    {
      "cell_type": "markdown",
      "metadata": {
        "id": "uErWHvrJO4Vz"
      },
      "source": [
        "So the 4th image in the training set is a 'Ankle boot':"
      ]
    },
    {
      "cell_type": "code",
      "metadata": {
        "id": "8uPPdDwtO4V1",
        "colab": {
          "base_uri": "https://localhost:8080/",
          "height": 35
        },
        "outputId": "7bf82865-cb9e-4e94-f152-56c129b793a4"
      },
      "source": [
        "class_names[y_train[4]]"
      ],
      "execution_count": 15,
      "outputs": [
        {
          "output_type": "execute_result",
          "data": {
            "text/plain": [
              "'Ankle boot'"
            ],
            "application/vnd.google.colaboratory.intrinsic+json": {
              "type": "string"
            }
          },
          "metadata": {},
          "execution_count": 15
        }
      ]
    },
    {
      "cell_type": "code",
      "metadata": {
        "id": "5zzjNgvI8LdW",
        "colab": {
          "base_uri": "https://localhost:8080/"
        },
        "outputId": "a9998144-483b-42cb-9f59-0235a8f13a7a"
      },
      "source": [
        "print( \"The training set shape is: \" , X_train.shape)\n",
        "print( \"The validation set shape is: \", X_valid.shape)\n",
        "print( \"The testing set shape is: \", X_test.shape)"
      ],
      "execution_count": 16,
      "outputs": [
        {
          "output_type": "stream",
          "name": "stdout",
          "text": [
            "The training set shape is:  torch.Size([55000, 28, 28])\n",
            "The validation set shape is:  torch.Size([5000, 28, 28])\n",
            "The testing set shape is:  torch.Size([10000, 28, 28])\n"
          ]
        }
      ]
    },
    {
      "cell_type": "markdown",
      "metadata": {
        "id": "OORMf7vnYwCg"
      },
      "source": [
        "#### 3.2.2.- Visualizing the Dataset"
      ]
    },
    {
      "cell_type": "markdown",
      "metadata": {
        "id": "G3IcA65gO4WC"
      },
      "source": [
        "Let's take a look at a sample of the images in the dataset:"
      ]
    },
    {
      "cell_type": "code",
      "metadata": {
        "id": "cn3ugDIcO4WD",
        "colab": {
          "base_uri": "https://localhost:8080/",
          "height": 428
        },
        "outputId": "f57a6896-922e-4f47-a2d5-da6db6608dfc"
      },
      "source": [
        "n_rows = 4\n",
        "n_cols = 10\n",
        "plt.figure(figsize=(n_cols * 1.2, n_rows * 1.2))\n",
        "for row in range(n_rows):\n",
        "    for col in range(n_cols):\n",
        "        index = n_cols * row + col\n",
        "        plt.subplot(n_rows, n_cols, index + 1)\n",
        "        plt.imshow(X_train[index], cmap=\"binary\", interpolation=\"nearest\")\n",
        "        plt.axis('off')\n",
        "        plt.title(class_names[y_train[index]], fontsize=12)\n",
        "plt.subplots_adjust(wspace=0.2, hspace=0.5)\n",
        "plt.show()"
      ],
      "execution_count": 17,
      "outputs": [
        {
          "output_type": "display_data",
          "data": {
            "text/plain": [
              "<Figure size 1200x480 with 40 Axes>"
            ],
            "image/png": "[encoded data removed]"
          },
          "metadata": {}
        }
      ]
    },
    {
      "cell_type": "markdown",
      "metadata": {
        "id": "Hyr7XsKe-SJO"
      },
      "source": [
        "## 3.3- Setting up the NN model with PyTorch"
      ]
    },
    {
      "cell_type": "markdown",
      "metadata": {
        "id": "i8FRTvpHZK4h"
      },
      "source": [
        "To ensure reproducibility we need to set the random seeds"
      ]
    },
    {
      "cell_type": "code",
      "metadata": {
        "id": "FdWdHNRqO4WO"
      },
      "source": [
        "np.random.seed(42)\n",
        "torch.manual_seed(42)\n",
        "torch.cuda.manual_seed(42)  # For GPU reproducibility"
      ],
      "execution_count": 18,
      "outputs": []
    },
    {
      "cell_type": "markdown",
      "metadata": {
        "id": "KBI0RNHnZR_J"
      },
      "source": [
        "Now we need to specify our Neural Network architecture. We need to specify:\n",
        "* The number of layers in our network\n",
        "* The number of neurons per layer\n",
        "* The activation function of our layers\n",
        "\n",
        "We can achieve all this by using `torch.nn`. There are multiple types of layer we can use. For this architecture we will have:\n",
        "\n",
        "**1)** The input layer will be a nn.Flatten in order to \"flatten” a image from a matrix to a vector.\n",
        "\n",
        "**2)** The 1st hidden layer will be a fully/densely connected layer with 300 neurons and ReLu activation function using `nn.Linear(28 * 28, 300)` and `nn.ReLU()`\n",
        "\n",
        "**3)** The 2nd hidden layer will be another fully/densely connected layer with 100 neuron and ReLu activation function using `nn.Linear(300, 100)` and `nn.ReLU()`\n",
        "\n",
        "**4)** The last layer, our output layer, will be another fully/densely connected layer but with just 10 layers since we have 10 classes. Also, since we have a multiclass classification problem, we will use a softmax activation function.\n"
      ]
    },
    {
      "cell_type": "code",
      "metadata": {
        "id": "8fwvWjrRO4WR"
      },
      "source": [
        "model = nn.Sequential(\n",
        "    nn.Flatten(),\n",
        "    nn.Linear(28 * 28, 300),\n",
        "    nn.ReLU(),\n",
        "    nn.Linear(300, 100),\n",
        "    nn.ReLU(),\n",
        "    nn.Linear(100, 10),\n",
        "    nn.Softmax(dim=1)  # softmax over class dimension\n",
        ")"
      ],
      "execution_count": 19,
      "outputs": []
    },
    {
      "cell_type": "code",
      "metadata": {
        "id": "wE2pVtKKO4WU",
        "colab": {
          "base_uri": "https://localhost:8080/"
        },
        "outputId": "92d867ce-9991-4b95-8687-29df0eaed284"
      },
      "source": [
        "print(model)"
      ],
      "execution_count": 20,
      "outputs": [
        {
          "output_type": "stream",
          "name": "stdout",
          "text": [
            "Sequential(\n",
            "  (0): Flatten(start_dim=1, end_dim=-1)\n",
            "  (1): Linear(in_features=784, out_features=300, bias=True)\n",
            "  (2): ReLU()\n",
            "  (3): Linear(in_features=300, out_features=100, bias=True)\n",
            "  (4): ReLU()\n",
            "  (5): Linear(in_features=100, out_features=10, bias=True)\n",
            "  (6): Softmax(dim=1)\n",
            ")\n"
          ]
        }
      ]
    },
    {
      "cell_type": "markdown",
      "metadata": {
        "id": "XhvVDzDuI5sO"
      },
      "source": [
        "We can get a summary of our NN architecture"
      ]
    },
    {
      "cell_type": "code",
      "metadata": {
        "id": "D1xEdSxOJX_q",
        "colab": {
          "base_uri": "https://localhost:8080/"
        },
        "outputId": "c097ff0d-5258-4468-f61a-af138525fce1"
      },
      "source": [
        "summary(model, input_size=(1, 28, 28))"
      ],
      "execution_count": 21,
      "outputs": [
        {
          "output_type": "stream",
          "name": "stdout",
          "text": [
            "----------------------------------------------------------------\n",
            "        Layer (type)               Output Shape         Param #\n",
            "================================================================\n",
            "           Flatten-1                  [-1, 784]               0\n",
            "            Linear-2                  [-1, 300]         235,500\n",
            "              ReLU-3                  [-1, 300]               0\n",
            "            Linear-4                  [-1, 100]          30,100\n",
            "              ReLU-5                  [-1, 100]               0\n",
            "            Linear-6                   [-1, 10]           1,010\n",
            "           Softmax-7                   [-1, 10]               0\n",
            "================================================================\n",
            "Total params: 266,610\n",
            "Trainable params: 266,610\n",
            "Non-trainable params: 0\n",
            "----------------------------------------------------------------\n",
            "Input size (MB): 0.00\n",
            "Forward/backward pass size (MB): 0.01\n",
            "Params size (MB): 1.02\n",
            "Estimated Total Size (MB): 1.03\n",
            "----------------------------------------------------------------\n"
          ]
        }
      ]
    },
    {
      "cell_type": "code",
      "source": [
        "x = torch.randn(1, 1, 28, 28)  # batch size 1, grayscale image\n",
        "y = model(x)\n",
        "make_dot(y, params=dict(model.named_parameters())).render(\"model\", format=\"png\")\n",
        "Image(\"model.png\")"
      ],
      "metadata": {
        "colab": {
          "base_uri": "https://localhost:8080/",
          "height": 817
        },
        "id": "jVcqVQoEH_MW",
        "outputId": "662c614b-4e8b-4eaa-a103-321547d30d24"
      },
      "execution_count": 22,
      "outputs": [
        {
          "output_type": "execute_result",
          "data": {
            "image/png": "[encoded data removed]",
            "text/plain": [
              "<IPython.core.display.Image object>"
            ]
          },
          "metadata": {},
          "execution_count": 22
        }
      ]
    },
    {
      "cell_type": "markdown",
      "metadata": {
        "id": "taqv_kZVJhUD"
      },
      "source": [
        "This summary show that:\n",
        "\n",
        "* $n^{[0]}$= 784  (inputs)\n",
        "* $n^{[1]}$= 300\n",
        "* $n^{[2]}$= 100\n",
        "* $n^{[3]}$= 10 (outputs)\n",
        "\n",
        "Hence, we have a total of 266,610 model parameters that need to be trained. Thankfully, PyTorch already randomly initialize the weights and initialized to zero our bias terms."
      ]
    },
    {
      "cell_type": "code",
      "metadata": {
        "id": "FC1zBh7QO4Wm"
      },
      "source": [
        "hidden1 = model[1]\n",
        "weights = hidden1.weight.data\n",
        "biases = hidden1.bias.data"
      ],
      "execution_count": 23,
      "outputs": []
    },
    {
      "cell_type": "code",
      "metadata": {
        "id": "6ay39MygO4Wr",
        "colab": {
          "base_uri": "https://localhost:8080/"
        },
        "outputId": "40fc83b5-c35d-4946-fbc6-2f70b519f2d4"
      },
      "source": [
        "weights"
      ],
      "execution_count": 24,
      "outputs": [
        {
          "output_type": "execute_result",
          "data": {
            "text/plain": [
              "tensor([[ 0.0273,  0.0296, -0.0084,  ..., -0.0142,  0.0093,  0.0135],\n",
              "        [-0.0188, -0.0354,  0.0187,  ..., -0.0106, -0.0001,  0.0115],\n",
              "        [-0.0008,  0.0017,  0.0045,  ..., -0.0127, -0.0188,  0.0059],\n",
              "        ...,\n",
              "        [-0.0283,  0.0160, -0.0331,  ..., -0.0214, -0.0285,  0.0025],\n",
              "        [ 0.0149, -0.0222,  0.0158,  ...,  0.0002,  0.0009,  0.0010],\n",
              "        [ 0.0060, -0.0062, -0.0113,  ...,  0.0222,  0.0135, -0.0049]])"
            ]
          },
          "metadata": {},
          "execution_count": 24
        }
      ]
    },
    {
      "cell_type": "code",
      "metadata": {
        "id": "P24MBdG8LWJx",
        "colab": {
          "base_uri": "https://localhost:8080/"
        },
        "outputId": "a86b1f2c-cf25-4cb2-fb68-ee0761da0ea9"
      },
      "source": [
        "biases"
      ],
      "execution_count": 25,
      "outputs": [
        {
          "output_type": "execute_result",
          "data": {
            "text/plain": [
              "tensor([ 0.0206,  0.0060,  0.0232, -0.0270, -0.0098, -0.0182, -0.0304, -0.0039,\n",
              "         0.0041,  0.0309, -0.0117,  0.0326,  0.0127, -0.0348, -0.0126, -0.0341,\n",
              "        -0.0169, -0.0226, -0.0347,  0.0201,  0.0293, -0.0016, -0.0167,  0.0077,\n",
              "         0.0332, -0.0142, -0.0279, -0.0221,  0.0331, -0.0055, -0.0130,  0.0019,\n",
              "        -0.0034, -0.0280,  0.0010,  0.0137,  0.0272,  0.0116, -0.0218,  0.0247,\n",
              "         0.0040, -0.0131, -0.0045, -0.0003, -0.0321, -0.0075,  0.0031, -0.0330,\n",
              "         0.0140, -0.0321, -0.0045, -0.0035,  0.0332,  0.0188, -0.0277, -0.0120,\n",
              "        -0.0268, -0.0152, -0.0327, -0.0103,  0.0282,  0.0170,  0.0344, -0.0027,\n",
              "        -0.0096, -0.0202, -0.0189, -0.0084, -0.0194, -0.0327, -0.0287, -0.0225,\n",
              "        -0.0017, -0.0080, -0.0102, -0.0216,  0.0171,  0.0219, -0.0348,  0.0229,\n",
              "        -0.0177,  0.0216, -0.0281,  0.0350,  0.0019, -0.0181, -0.0004, -0.0327,\n",
              "         0.0191,  0.0283, -0.0205, -0.0212,  0.0040,  0.0131, -0.0218,  0.0054,\n",
              "         0.0006,  0.0229,  0.0301, -0.0169,  0.0102,  0.0157, -0.0213,  0.0213,\n",
              "        -0.0085,  0.0229,  0.0178,  0.0188,  0.0182, -0.0264, -0.0269,  0.0040,\n",
              "        -0.0072,  0.0134, -0.0148, -0.0343,  0.0021, -0.0109,  0.0104,  0.0252,\n",
              "         0.0197, -0.0216, -0.0314, -0.0205, -0.0249, -0.0145, -0.0177, -0.0287,\n",
              "        -0.0255,  0.0345, -0.0086, -0.0318,  0.0079, -0.0163,  0.0244, -0.0346,\n",
              "         0.0136, -0.0108, -0.0209,  0.0069,  0.0082, -0.0290, -0.0010,  0.0033,\n",
              "         0.0268, -0.0198,  0.0222,  0.0044, -0.0089, -0.0072,  0.0161,  0.0176,\n",
              "         0.0052,  0.0185,  0.0143,  0.0303, -0.0152, -0.0214, -0.0170,  0.0035,\n",
              "         0.0126,  0.0108,  0.0145,  0.0027,  0.0223, -0.0070,  0.0163,  0.0120,\n",
              "        -0.0244, -0.0142,  0.0148, -0.0338,  0.0328,  0.0084, -0.0183, -0.0049,\n",
              "         0.0203,  0.0166,  0.0236, -0.0264, -0.0247,  0.0014,  0.0115, -0.0032,\n",
              "        -0.0337, -0.0156, -0.0340, -0.0174, -0.0018,  0.0325, -0.0249, -0.0346,\n",
              "        -0.0167,  0.0035,  0.0243,  0.0037, -0.0216,  0.0006, -0.0157,  0.0345,\n",
              "         0.0039, -0.0312,  0.0323, -0.0182, -0.0256, -0.0253,  0.0293, -0.0324,\n",
              "         0.0216, -0.0241, -0.0197,  0.0255, -0.0262, -0.0302, -0.0184,  0.0301,\n",
              "        -0.0024,  0.0309,  0.0228, -0.0151, -0.0154, -0.0127,  0.0166,  0.0179,\n",
              "         0.0032, -0.0045, -0.0057, -0.0158, -0.0121, -0.0134, -0.0023,  0.0037,\n",
              "         0.0185,  0.0124,  0.0041, -0.0323, -0.0156, -0.0015,  0.0220,  0.0246,\n",
              "         0.0106, -0.0315, -0.0049, -0.0019, -0.0284,  0.0174, -0.0328,  0.0021,\n",
              "        -0.0252,  0.0307, -0.0017,  0.0279,  0.0300,  0.0309, -0.0162,  0.0122,\n",
              "         0.0180, -0.0009, -0.0233, -0.0241,  0.0114, -0.0210,  0.0139, -0.0034,\n",
              "         0.0135,  0.0196,  0.0108,  0.0251, -0.0069, -0.0152, -0.0047,  0.0335,\n",
              "         0.0318, -0.0221, -0.0136, -0.0106,  0.0055, -0.0294,  0.0353,  0.0098,\n",
              "         0.0196, -0.0197,  0.0241, -0.0116, -0.0244, -0.0294,  0.0096, -0.0086,\n",
              "        -0.0121, -0.0340,  0.0203,  0.0332, -0.0226, -0.0016,  0.0235, -0.0143,\n",
              "        -0.0162, -0.0013, -0.0140, -0.0216])"
            ]
          },
          "metadata": {},
          "execution_count": 25
        }
      ]
    },
    {
      "cell_type": "markdown",
      "metadata": {
        "id": "uZ7qkZNwLazk"
      },
      "source": [
        "Just in case you want to look at the model's parameters, you need to be aware that in PyTorch the shape/dimension of $W^{[l]}$ is actually $(n^{[l-1]}, n^{[l]})$ and $b^{[l]}$ is  $(n^{[l]},)$."
      ]
    },
    {
      "cell_type": "code",
      "metadata": {
        "id": "yn6EsAy4O4Wu",
        "colab": {
          "base_uri": "https://localhost:8080/"
        },
        "outputId": "230488dd-eb30-48bc-c105-5797e17db053"
      },
      "source": [
        "weights.shape"
      ],
      "execution_count": 26,
      "outputs": [
        {
          "output_type": "execute_result",
          "data": {
            "text/plain": [
              "torch.Size([300, 784])"
            ]
          },
          "metadata": {},
          "execution_count": 26
        }
      ]
    },
    {
      "cell_type": "code",
      "metadata": {
        "id": "R7h6Ih3SO4W5",
        "colab": {
          "base_uri": "https://localhost:8080/"
        },
        "outputId": "bfdd3387-4f4b-443a-b17e-1ed1e30b69fc"
      },
      "source": [
        "biases.shape"
      ],
      "execution_count": 27,
      "outputs": [
        {
          "output_type": "execute_result",
          "data": {
            "text/plain": [
              "torch.Size([300])"
            ]
          },
          "metadata": {},
          "execution_count": 27
        }
      ]
    },
    {
      "cell_type": "markdown",
      "metadata": {
        "id": "f74-LYKmNPOz"
      },
      "source": [
        "## 3.4- Training our NN model with PyTorch"
      ]
    },
    {
      "cell_type": "markdown",
      "metadata": {
        "id": "ZTQw6ntGNXrZ"
      },
      "source": [
        "Since this is a multiclass classification problem we would use the Cross Entropy loss function (see Eq. 4-22) ; however, for our evaluation metric we would like to use [accuracy]( https://developers.google.com/machine-learning/crash-course/classification/accuracy) since we would like to know the percentage of correctly classified instances. Lastly, since we have so many parameters, lets use  Stochastic gradient descent (sgd) optimizer to get to a “good” solution fast."
      ]
    },
    {
      "cell_type": "code",
      "metadata": {
        "id": "id2g0ssjO4W-"
      },
      "source": [
        "# Loss function: sparse categorical crossentropy → CrossEntropyLoss\n",
        "loss_fn = nn.CrossEntropyLoss()\n",
        "\n",
        "# Optimizer: SGD\n",
        "optimizer = optim.SGD(model.parameters(), lr=0.01)\n",
        "\n",
        "#Lets save our initial model weights so we can \"reset\" the traning latter\n",
        "Wsave = copy.deepcopy(model.state_dict())"
      ],
      "execution_count": 28,
      "outputs": []
    },
    {
      "cell_type": "markdown",
      "metadata": {
        "id": "L79kTIGkL5Nf"
      },
      "source": [
        "Now we can train our model, and fit our parameters to the training set. We also pass the validation set just for evaluation purposes (no training is done with the validation set).\n",
        "\n",
        "For now, lets do 1 iteration (`epochs=1`) of my SGD going over the whole dataset (`batch_size=1`).\n",
        "\n",
        "This will take a while to run..."
      ]
    },
    {
      "cell_type": "code",
      "metadata": {
        "id": "CwJ5DVKZW6WR",
        "colab": {
          "base_uri": "https://localhost:8080/"
        },
        "outputId": "3852989b-0d04-403c-f413-ddebc9e986f3"
      },
      "source": [
        "import time\n",
        "from torch.utils.data import TensorDataset, DataLoader\n",
        "\n",
        "# Reset weights\n",
        "model.load_state_dict(Wsave)\n",
        "\n",
        "# Prepare tensors\n",
        "X_train_tensor = X_train_full[:50000].float().unsqueeze(1) / 255.0\n",
        "y_train_tensor = y_train_full[:50000]\n",
        "X_valid_tensor = X_train_full[50000:].float().unsqueeze(1) / 255.0\n",
        "y_valid_tensor = y_train_full[50000:]\n",
        "\n",
        "# DataLoaders\n",
        "batch_size = 1\n",
        "train_loader = DataLoader(TensorDataset(X_train_tensor, y_train_tensor), batch_size=batch_size, shuffle=True)\n",
        "valid_loader = DataLoader(TensorDataset(X_valid_tensor, y_valid_tensor), batch_size=batch_size)\n",
        "\n",
        "# History dict like Keras\n",
        "history = {\n",
        "    'loss': [],\n",
        "    'val_loss': [],\n",
        "    'accuracy': [],\n",
        "    'val_accuracy': [],\n",
        "    'params': {\n",
        "        'verbose': 1,\n",
        "        'epochs': 1,\n",
        "        'steps': len(train_loader)\n",
        "    }\n",
        "}\n",
        "\n",
        "# Training\n",
        "tic = time.process_time()\n",
        "model.train()\n",
        "for epoch in range(history['params']['epochs']):\n",
        "    epoch_loss = 0\n",
        "    correct = 0\n",
        "    total = 0\n",
        "\n",
        "    for X_batch, y_batch in train_loader:\n",
        "        optimizer.zero_grad()\n",
        "        y_pred = model(X_batch)\n",
        "        loss = loss_fn(y_pred, y_batch)\n",
        "        loss.backward()\n",
        "        optimizer.step()\n",
        "\n",
        "        epoch_loss += loss.item()\n",
        "        correct += (y_pred.argmax(1) == y_batch).sum().item()\n",
        "        total += y_batch.size(0)\n",
        "\n",
        "    avg_loss = epoch_loss / len(train_loader)\n",
        "    accuracy = correct / total\n",
        "\n",
        "    # Validation\n",
        "    model.eval()\n",
        "    val_loss = 0\n",
        "    val_correct = 0\n",
        "    val_total = 0\n",
        "    with torch.no_grad():\n",
        "        for X_batch, y_batch in valid_loader:\n",
        "            y_pred = model(X_batch)\n",
        "            loss = loss_fn(y_pred, y_batch)\n",
        "            val_loss += loss.item()\n",
        "            val_correct += (y_pred.argmax(1) == y_batch).sum().item()\n",
        "            val_total += y_batch.size(0)\n",
        "    model.train()\n",
        "\n",
        "    val_avg_loss = val_loss / len(valid_loader)\n",
        "    val_accuracy = val_correct / val_total\n",
        "\n",
        "    # Store history\n",
        "    history['loss'].append(avg_loss)\n",
        "    history['accuracy'].append(accuracy)\n",
        "    history['val_loss'].append(val_avg_loss)\n",
        "    history['val_accuracy'].append(val_accuracy)\n",
        "\n",
        "    # Print like Keras verbose=1\n",
        "    if history['params']['verbose']:\n",
        "        print(f\"Epoch {epoch+1}/{history['params']['epochs']}\")\n",
        "        print(f\"loss: {avg_loss:.4f} - accuracy: {accuracy:.4f} - val_loss: {val_avg_loss:.4f} - val_accuracy: {val_accuracy:.4f}\")\n",
        "\n",
        "toc = time.process_time()\n",
        "print(\"Time to train the model:\" + str((toc - tic)) + \"s\")\n"
      ],
      "execution_count": 29,
      "outputs": [
        {
          "output_type": "stream",
          "name": "stdout",
          "text": [
            "Epoch 1/1\n",
            "loss: 1.7588 - accuracy: 0.7149 - val_loss: 1.6801 - val_accuracy: 0.7825\n",
            "Time to train the model:64.58112443899999s\n"
          ]
        }
      ]
    },
    {
      "cell_type": "markdown",
      "metadata": {
        "id": "uTXd7WDhXaBn"
      },
      "source": [
        "If you did not commented out the `model.set_weights(Wsave)` and is the 1st time you run this code cell, from the printout you will see that the model gets a training accuracy of ~81% and validation accuracy of ~80%. Every time we run the `.fit` method of the model, we continue to train the model\n",
        "\n",
        "Let’s see if we can get a better performance by training over more iterations, but in batches now (like BGD), so let’s \"reset\" our model.\n",
        "\n",
        "This will take even longer to run.\n"
      ]
    },
    {
      "cell_type": "code",
      "metadata": {
        "id": "4QTmgSR5bhFg",
        "colab": {
          "base_uri": "https://localhost:8080/"
        },
        "outputId": "a6727794-df21-4479-c584-bd4ffcc3607b"
      },
      "source": [
        "# Reset weights\n",
        "model.load_state_dict(Wsave)\n",
        "\n",
        "# Prepare data (split train/val)\n",
        "X_train_tensor = X_train_full[:50000].float().unsqueeze(1) / 255.0\n",
        "y_train_tensor = y_train_full[:50000]\n",
        "X_valid_tensor = X_train_full[50000:].float().unsqueeze(1) / 255.0\n",
        "y_valid_tensor = y_train_full[50000:]\n",
        "\n",
        "# Dataloaders\n",
        "batch_size = 50\n",
        "train_loader = DataLoader(TensorDataset(X_train_tensor, y_train_tensor), batch_size=batch_size, shuffle=True)\n",
        "valid_loader = DataLoader(TensorDataset(X_valid_tensor, y_valid_tensor), batch_size=batch_size)\n",
        "\n",
        "# Keras-style history dict with params\n",
        "history = {\n",
        "    'loss': [],\n",
        "    'val_loss': [],\n",
        "    'accuracy': [],\n",
        "    'val_accuracy': [],\n",
        "    'params': {\n",
        "        'verbose': 1,\n",
        "        'epochs': 30,\n",
        "        'steps': len(train_loader)\n",
        "    }\n",
        "}\n",
        "\n",
        "# Training loop\n",
        "tic = time.process_time()\n",
        "for epoch in range(history['params']['epochs']):\n",
        "    model.train()\n",
        "    running_loss = 0\n",
        "    correct = 0\n",
        "    total = 0\n",
        "\n",
        "    for X_batch, y_batch in train_loader:\n",
        "        optimizer.zero_grad()\n",
        "        y_pred = model(X_batch)\n",
        "        loss = loss_fn(y_pred, y_batch)\n",
        "        loss.backward()\n",
        "        optimizer.step()\n",
        "\n",
        "        running_loss += loss.item()\n",
        "        correct += (y_pred.argmax(1) == y_batch).sum().item()\n",
        "        total += y_batch.size(0)\n",
        "\n",
        "    avg_loss = running_loss / len(train_loader)\n",
        "    train_accuracy = correct / total\n",
        "\n",
        "    # Validation\n",
        "    model.eval()\n",
        "    val_loss = 0\n",
        "    val_correct = 0\n",
        "    val_total = 0\n",
        "    with torch.no_grad():\n",
        "        for X_batch, y_batch in valid_loader:\n",
        "            y_pred = model(X_batch)\n",
        "            loss = loss_fn(y_pred, y_batch)\n",
        "            val_loss += loss.item()\n",
        "            val_correct += (y_pred.argmax(1) == y_batch).sum().item()\n",
        "            val_total += y_batch.size(0)\n",
        "\n",
        "    avg_val_loss = val_loss / len(valid_loader)\n",
        "    val_accuracy = val_correct / val_total\n",
        "\n",
        "    # Store history\n",
        "    history['loss'].append(avg_loss)\n",
        "    history['accuracy'].append(train_accuracy)\n",
        "    history['val_loss'].append(avg_val_loss)\n",
        "    history['val_accuracy'].append(val_accuracy)\n",
        "\n",
        "    # Print like Keras verbose=1\n",
        "    if history['params']['verbose']:\n",
        "        print(f\"Epoch {epoch+1}/{history['params']['epochs']}\")\n",
        "        print(f\"loss: {avg_loss:.4f} - accuracy: {train_accuracy:.4f} - val_loss: {avg_val_loss:.4f} - val_accuracy: {val_accuracy:.4f}\")\n",
        "\n",
        "toc = time.process_time()\n",
        "print(\"Time to train the model:\" + str((toc - tic)) + \"s\")\n"
      ],
      "execution_count": 30,
      "outputs": [
        {
          "output_type": "stream",
          "name": "stdout",
          "text": [
            "Epoch 1/30\n",
            "loss: 2.2985 - accuracy: 0.2539 - val_loss: 2.2927 - val_accuracy: 0.3699\n",
            "Epoch 2/30\n",
            "loss: 2.2808 - accuracy: 0.3657 - val_loss: 2.2590 - val_accuracy: 0.3715\n",
            "Epoch 3/30\n",
            "loss: 2.1784 - accuracy: 0.3740 - val_loss: 2.0654 - val_accuracy: 0.5120\n",
            "Epoch 4/30\n",
            "loss: 1.9835 - accuracy: 0.5450 - val_loss: 1.9336 - val_accuracy: 0.5520\n",
            "Epoch 5/30\n",
            "loss: 1.8885 - accuracy: 0.6162 - val_loss: 1.8607 - val_accuracy: 0.6292\n",
            "Epoch 6/30\n",
            "loss: 1.8459 - accuracy: 0.6325 - val_loss: 1.8347 - val_accuracy: 0.6407\n",
            "Epoch 7/30\n",
            "loss: 1.8245 - accuracy: 0.6560 - val_loss: 1.8158 - val_accuracy: 0.6755\n",
            "Epoch 8/30\n",
            "loss: 1.8046 - accuracy: 0.6893 - val_loss: 1.7970 - val_accuracy: 0.6966\n",
            "Epoch 9/30\n",
            "loss: 1.7865 - accuracy: 0.7061 - val_loss: 1.7818 - val_accuracy: 0.7063\n",
            "Epoch 10/30\n",
            "loss: 1.7729 - accuracy: 0.7135 - val_loss: 1.7712 - val_accuracy: 0.7107\n",
            "Epoch 11/30\n",
            "loss: 1.7632 - accuracy: 0.7184 - val_loss: 1.7636 - val_accuracy: 0.7143\n",
            "Epoch 12/30\n",
            "loss: 1.7562 - accuracy: 0.7209 - val_loss: 1.7580 - val_accuracy: 0.7165\n",
            "Epoch 13/30\n",
            "loss: 1.7509 - accuracy: 0.7240 - val_loss: 1.7539 - val_accuracy: 0.7193\n",
            "Epoch 14/30\n",
            "loss: 1.7469 - accuracy: 0.7262 - val_loss: 1.7511 - val_accuracy: 0.7212\n",
            "Epoch 15/30\n",
            "loss: 1.7435 - accuracy: 0.7287 - val_loss: 1.7477 - val_accuracy: 0.7224\n",
            "Epoch 16/30\n",
            "loss: 1.7408 - accuracy: 0.7299 - val_loss: 1.7458 - val_accuracy: 0.7235\n",
            "Epoch 17/30\n",
            "loss: 1.7387 - accuracy: 0.7314 - val_loss: 1.7439 - val_accuracy: 0.7251\n",
            "Epoch 18/30\n",
            "loss: 1.7366 - accuracy: 0.7327 - val_loss: 1.7420 - val_accuracy: 0.7263\n",
            "Epoch 19/30\n",
            "loss: 1.7350 - accuracy: 0.7337 - val_loss: 1.7402 - val_accuracy: 0.7278\n",
            "Epoch 20/30\n",
            "loss: 1.7335 - accuracy: 0.7348 - val_loss: 1.7394 - val_accuracy: 0.7277\n",
            "Epoch 21/30\n",
            "loss: 1.7321 - accuracy: 0.7357 - val_loss: 1.7383 - val_accuracy: 0.7285\n",
            "Epoch 22/30\n",
            "loss: 1.7308 - accuracy: 0.7369 - val_loss: 1.7369 - val_accuracy: 0.7303\n",
            "Epoch 23/30\n",
            "loss: 1.7296 - accuracy: 0.7376 - val_loss: 1.7359 - val_accuracy: 0.7312\n",
            "Epoch 24/30\n",
            "loss: 1.7286 - accuracy: 0.7383 - val_loss: 1.7347 - val_accuracy: 0.7316\n",
            "Epoch 25/30\n",
            "loss: 1.7274 - accuracy: 0.7391 - val_loss: 1.7340 - val_accuracy: 0.7319\n",
            "Epoch 26/30\n",
            "loss: 1.7266 - accuracy: 0.7400 - val_loss: 1.7332 - val_accuracy: 0.7325\n",
            "Epoch 27/30\n",
            "loss: 1.7256 - accuracy: 0.7408 - val_loss: 1.7328 - val_accuracy: 0.7324\n",
            "Epoch 28/30\n",
            "loss: 1.7249 - accuracy: 0.7415 - val_loss: 1.7321 - val_accuracy: 0.7329\n",
            "Epoch 29/30\n",
            "loss: 1.7241 - accuracy: 0.7419 - val_loss: 1.7306 - val_accuracy: 0.7345\n",
            "Epoch 30/30\n",
            "loss: 1.7233 - accuracy: 0.7428 - val_loss: 1.7305 - val_accuracy: 0.7350\n",
            "Time to train the model:94.96588323799999s\n"
          ]
        }
      ]
    },
    {
      "cell_type": "markdown",
      "metadata": {
        "id": "Iud8cLaqVZyi"
      },
      "source": [
        "We got a better accuracy now!! but it took so long, in the next notebook we will learn how to train out model using the free GPU of Google Colab.\n",
        "\n",
        "It is important to understand the difference between epochs and how `barch_size` related to the step of our optimizer. As you can see bellow, in our last training, we had `epochs=30` and `steps=1100`.\n",
        "\n",
        "An Epoch is an arbitrary cutoff, generally defined as \"one pass over the entire dataset\", used to separate training into distinct phases, which is useful for logging and periodic evaluation. Hence, setting up the number of epochs is like setting up the number of times we want PyTorch to save the loss and performance metric of my training and validation set. While in each epoch, we go over several steps updating our parameters (as you can see from the update bar), but only calculate loss and performance of validation set at the end of each epoch.\n",
        "\n",
        "The  number of steps are given by the `m/batch size`. We could also use the `steps_per_epoch` to directly set this value.  \n",
        "\n"
      ]
    },
    {
      "cell_type": "code",
      "metadata": {
        "id": "DYqTDRmEO4XI",
        "colab": {
          "base_uri": "https://localhost:8080/"
        },
        "outputId": "a5056179-571a-4770-fa55-58f8a6aec6b6"
      },
      "source": [
        "history['params']"
      ],
      "execution_count": 31,
      "outputs": [
        {
          "output_type": "execute_result",
          "data": {
            "text/plain": [
              "{'verbose': 1, 'epochs': 30, 'steps': 1000}"
            ]
          },
          "metadata": {},
          "execution_count": 31
        }
      ]
    },
    {
      "cell_type": "markdown",
      "metadata": {
        "id": "205ixaiJb8I4"
      },
      "source": [
        "We can clearly see that our model is converging just fine."
      ]
    },
    {
      "cell_type": "markdown",
      "metadata": {
        "id": "DkZgpMF-cGdO"
      },
      "source": [
        "## 3.5- Using our NN for prediction"
      ]
    },
    {
      "cell_type": "markdown",
      "metadata": {
        "id": "PsF2l94idIHJ"
      },
      "source": [
        "Now we can use our trained model and testing set to get an estimate of how our model would perform if deployed.\n",
        "\n",
        "Remember, that you should never look at the testing set performance and re-training your model, since you will be **OVERFITTING TO THE TEST SET!!!**... hence you would not have any data to reliably estimate of how our model would perform if deployed.\n"
      ]
    },
    {
      "cell_type": "code",
      "metadata": {
        "id": "xg_JOnG-O4XZ",
        "colab": {
          "base_uri": "https://localhost:8080/"
        },
        "outputId": "39537cf1-65d9-419e-a750-43f3cee0306a"
      },
      "source": [
        "from torch.utils.data import TensorDataset, DataLoader\n",
        "\n",
        "# Prepare test data\n",
        "X_test_tensor = X_test.float().unsqueeze(1) / 255.0  # shape: [10000, 1, 28, 28]\n",
        "y_test_tensor = y_test\n",
        "\n",
        "test_loader = DataLoader(TensorDataset(X_test_tensor, y_test_tensor), batch_size=50)\n",
        "\n",
        "# Evaluate\n",
        "model.eval()\n",
        "test_loss = 0\n",
        "correct = 0\n",
        "\n",
        "with torch.no_grad():\n",
        "    for X_batch, y_batch in test_loader:\n",
        "        y_pred = model(X_batch)\n",
        "        test_loss += loss_fn(y_pred, y_batch).item()\n",
        "        correct += (y_pred.argmax(1) == y_batch).sum().item()\n",
        "\n",
        "# Compute average loss and accuracy\n",
        "test_loss /= len(test_loader)\n",
        "accuracy = correct / len(X_test_tensor)\n",
        "\n",
        "print(f\"Test loss: {test_loss:.4f}\")\n",
        "print(f\"Test accuracy: {accuracy:.4f}\")\n"
      ],
      "execution_count": 32,
      "outputs": [
        {
          "output_type": "stream",
          "name": "stdout",
          "text": [
            "Test loss: 2.3263\n",
            "Test accuracy: 0.1000\n"
          ]
        }
      ]
    },
    {
      "cell_type": "markdown",
      "metadata": {
        "id": "Byj3_wHIdszK"
      },
      "source": [
        "We can see that even to get a prediction out of our model, it takes some time. This is a metric that in some cases might be as valuable as accuracy or performance."
      ]
    },
    {
      "cell_type": "code",
      "metadata": {
        "id": "VP93ZyK8O4Xb",
        "colab": {
          "base_uri": "https://localhost:8080/"
        },
        "outputId": "3b782d0b-b079-4bb9-e1cd-181a64e25a18"
      },
      "source": [
        "# Select first 3 test samples\n",
        "X_new = X_test[:3].float().unsqueeze(1) / 255.0  # shape: [3, 1, 28, 28]\n",
        "\n",
        "# Predict probabilities\n",
        "model.eval()\n",
        "with torch.no_grad():\n",
        "    y_proba = model(X_new)\n",
        "\n",
        "# Round probabilities to 2 decimal places\n",
        "y_proba_rounded = torch.round(y_proba * 100) / 100\n",
        "\n",
        "print(y_proba_rounded)\n"
      ],
      "execution_count": 33,
      "outputs": [
        {
          "output_type": "stream",
          "name": "stdout",
          "text": [
            "tensor([[0.0200, 0.0100, 0.0600, 0.0500, 0.0300, 0.7100, 0.0300, 0.0300, 0.0400,\n",
            "         0.0100],\n",
            "        [0.0200, 0.0100, 0.0700, 0.0500, 0.0300, 0.7100, 0.0300, 0.0300, 0.0400,\n",
            "         0.0100],\n",
            "        [0.0200, 0.0100, 0.0700, 0.0500, 0.0400, 0.6900, 0.0300, 0.0300, 0.0400,\n",
            "         0.0100]])\n"
          ]
        }
      ]
    },
    {
      "cell_type": "markdown",
      "metadata": {
        "id": "pYhAvB0recN4"
      },
      "source": [
        "Since the output later of this NN model has 10 artificial neuron, one for each of the class in my dataset, as output I will get a vector of probabilities."
      ]
    },
    {
      "cell_type": "code",
      "metadata": {
        "id": "TXz597mXO4Xe",
        "colab": {
          "base_uri": "https://localhost:8080/"
        },
        "outputId": "6b9e2ba2-edaa-4144-c5a5-4fbe1083d521"
      },
      "source": [
        "# Ensure model is in evaluation mode and input is normalized\n",
        "model.eval()\n",
        "X_new = X_test[:3].float().unsqueeze(1) / 255.0\n",
        "\n",
        "with torch.no_grad():\n",
        "    y_prob = model(X_new)\n",
        "\n",
        "# Get predicted class indices\n",
        "y_classes = y_prob.argmax(dim=-1)\n",
        "print(y_classes)\n"
      ],
      "execution_count": 34,
      "outputs": [
        {
          "output_type": "stream",
          "name": "stdout",
          "text": [
            "tensor([5, 5, 5])\n"
          ]
        }
      ]
    },
    {
      "cell_type": "code",
      "metadata": {
        "id": "C3WjU_tkO4Xi",
        "colab": {
          "base_uri": "https://localhost:8080/"
        },
        "outputId": "2ce49b43-d681-425d-9603-d02eeb9300f3"
      },
      "source": [
        "np.array(class_names)[y_classes]"
      ],
      "execution_count": 35,
      "outputs": [
        {
          "output_type": "execute_result",
          "data": {
            "text/plain": [
              "array(['Sandal', 'Sandal', 'Sandal'], dtype='<U11')"
            ]
          },
          "metadata": {},
          "execution_count": 35
        }
      ]
    },
    {
      "cell_type": "code",
      "metadata": {
        "id": "9UaFBdhiO4Xl",
        "colab": {
          "base_uri": "https://localhost:8080/"
        },
        "outputId": "1042369c-7c8b-434b-8de4-0ed4bfb959e3"
      },
      "source": [
        "y_new = y_test[:3]\n",
        "y_new"
      ],
      "execution_count": 36,
      "outputs": [
        {
          "output_type": "execute_result",
          "data": {
            "text/plain": [
              "tensor([9, 2, 1])"
            ]
          },
          "metadata": {},
          "execution_count": 36
        }
      ]
    },
    {
      "cell_type": "code",
      "metadata": {
        "id": "br1cyu5YO4Xn",
        "colab": {
          "base_uri": "https://localhost:8080/",
          "height": 223
        },
        "outputId": "6313a6da-e571-49c5-f81f-918dbce6f79e"
      },
      "source": [
        "plt.figure(figsize=(7.2, 2.4))\n",
        "for index, image in enumerate(X_new):\n",
        "    plt.subplot(1, 3, index + 1)\n",
        "    # Squeeze the image tensor to remove the channel dimension before displaying\n",
        "    plt.imshow(image.squeeze(0), cmap=\"binary\", interpolation=\"nearest\")\n",
        "    plt.axis('off')\n",
        "    plt.title(class_names[y_test[index]], fontsize=12)\n",
        "plt.subplots_adjust(wspace=0.2, hspace=0.5)\n",
        "plt.show()"
      ],
      "execution_count": 37,
      "outputs": [
        {
          "output_type": "display_data",
          "data": {
            "text/plain": [
              "<Figure size 720x240 with 3 Axes>"
            ],
            "image/png": "[encoded data removed]"
          },
          "metadata": {}
        }
      ]
    },
    {
      "cell_type": "markdown",
      "metadata": {
        "id": "06B8P6jbg0a8"
      },
      "source": [
        "\n",
        "# 4- Building your own NN"
      ]
    },
    {
      "cell_type": "code",
      "metadata": {
        "id": "L7wHx6hIAWvo"
      },
      "source": [
        "import torch\n",
        "from torchvision import datasets, transforms\n",
        "from torch.utils.data import random_split\n",
        "import pandas as pd\n",
        "\n",
        "# Transform: convert to tensor (values in [0, 1])\n",
        "transform = transforms.ToTensor()\n",
        "\n",
        "# Load MNIST dataset\n",
        "mnist_train = datasets.MNIST(root='.', train=True, download=True, transform=transform)\n",
        "mnist_test = datasets.MNIST(root='.', train=False, download=True, transform=transform)\n",
        "\n",
        "# Split training into train and validation sets (5000 validation, 55000 training)\n",
        "X_train, X_valid = random_split(mnist_train, [55000, 5000], generator=torch.Generator().manual_seed(42))\n",
        "\n",
        "# Keep test set as-is\n",
        "X_test = mnist_test\n",
        "\n",
        "# Class names\n",
        "class_names = [\"0\", \"1\", \"2\", \"3\", \"4\", \"5\", \"6\", \"7\", \"8\", \"9\"]\n"
      ],
      "execution_count": 38,
      "outputs": []
    },
    {
      "cell_type": "code",
      "metadata": {
        "id": "ReFG7NNLnxRO",
        "colab": {
          "base_uri": "https://localhost:8080/"
        },
        "outputId": "22ae158f-1c76-4f43-ee56-1dd9602e55d6"
      },
      "source": [
        "print(image.squeeze().shape)  # torch.Size([28, 28])"
      ],
      "execution_count": 39,
      "outputs": [
        {
          "output_type": "stream",
          "name": "stdout",
          "text": [
            "torch.Size([28, 28])\n"
          ]
        }
      ]
    },
    {
      "cell_type": "code",
      "metadata": {
        "id": "IpX67MjVBX6Z",
        "colab": {
          "base_uri": "https://localhost:8080/",
          "height": 428
        },
        "outputId": "9a46b7f9-0f56-4a6c-831a-7e697f76b612"
      },
      "source": [
        "n_rows = 4\n",
        "n_cols = 10\n",
        "plt.figure(figsize=(n_cols * 1.2, n_rows * 1.2))\n",
        "for row in range(n_rows):\n",
        "    for col in range(n_cols):\n",
        "        index = n_cols * row + col\n",
        "        # Access the image data from the Subset using [0]\n",
        "        image, label = X_train[index]\n",
        "        plt.subplot(n_rows, n_cols, index + 1)\n",
        "        plt.imshow(image.squeeze(), cmap=\"binary\", interpolation=\"nearest\") # Squeeze to remove channel dim if necessary\n",
        "        plt.axis('off')\n",
        "        plt.title(class_names[label], fontsize=12)\n",
        "plt.subplots_adjust(wspace=0.2, hspace=0.5)\n",
        "plt.show()"
      ],
      "execution_count": 40,
      "outputs": [
        {
          "output_type": "display_data",
          "data": {
            "text/plain": [
              "<Figure size 1200x480 with 40 Axes>"
            ],
            "image/png": "[encoded data removed]"
          },
          "metadata": {}
        }
      ]
    },
    {
      "cell_type": "markdown",
      "source": [
        "**Hyperparameter Tuning**"
      ],
      "metadata": {
        "id": "xTAsG4WkbaJw"
      }
    },
    {
      "cell_type": "code",
      "source": [
        "# Hyperparameter Tuning (Quick evaluation on val set)\n",
        "import torch.nn.functional as F\n",
        "\n",
        "def build_model(dropout_rate):\n",
        "    return nn.Sequential(\n",
        "        nn.Flatten(),\n",
        "        nn.Linear(28 * 28, 100),\n",
        "        nn.ReLU(),\n",
        "        nn.Dropout(dropout_rate),\n",
        "        nn.Linear(100, 10),\n",
        "        nn.Softmax(dim=1)\n",
        "    )\n",
        "\n",
        "tuning_results = []\n",
        "lr_values = [0.01, 0.05]\n",
        "dropout_values = [0.2, 0.5]\n",
        "\n",
        "for lr in lr_values:\n",
        "    for dropout in dropout_values:\n",
        "        print(f\"Testing lr={lr}, dropout={dropout}\")\n",
        "\n",
        "        model = build_model(dropout)\n",
        "        optimizer = optim.SGD(model.parameters(), lr=lr)\n",
        "\n",
        "        # Train briefly (3 epochs)\n",
        "        for epoch in range(3):\n",
        "            model.train()\n",
        "            for X_batch, y_batch in train_loader:\n",
        "                optimizer.zero_grad()\n",
        "                y_pred = model(X_batch)\n",
        "                loss = loss_fn(y_pred, y_batch)\n",
        "                loss.backward()\n",
        "                optimizer.step()\n",
        "\n",
        "        # Validation accuracy\n",
        "        model.eval()\n",
        "        correct = 0\n",
        "        total = 0\n",
        "        with torch.no_grad():\n",
        "            for X_batch, y_batch in valid_loader:\n",
        "                y_pred = model(X_batch)\n",
        "                correct += (y_pred.argmax(1) == y_batch).sum().item()\n",
        "                total += y_batch.size(0)\n",
        "        accuracy = correct / total\n",
        "        tuning_results.append((lr, dropout, accuracy))\n",
        "\n",
        "# Display results\n",
        "tuning_results.sort(key=lambda x: x[2], reverse=True)\n",
        "best_lr, best_dropout, best_acc = tuning_results[0]\n",
        "print(f\"\\nBest config: lr={best_lr}, dropout={best_dropout}, val_acc={best_acc:.4f}\")\n"
      ],
      "metadata": {
        "colab": {
          "base_uri": "https://localhost:8080/"
        },
        "id": "wXgI2lAobZyA",
        "outputId": "dd8bc957-d22f-47c9-92ed-139989442bb0"
      },
      "execution_count": 41,
      "outputs": [
        {
          "output_type": "stream",
          "name": "stdout",
          "text": [
            "Testing lr=0.01, dropout=0.2\n",
            "Testing lr=0.01, dropout=0.5\n",
            "Testing lr=0.05, dropout=0.2\n",
            "Testing lr=0.05, dropout=0.5\n",
            "\n",
            "Best config: lr=0.05, dropout=0.5, val_acc=0.7729\n"
          ]
        }
      ]
    },
    {
      "cell_type": "markdown",
      "metadata": {
        "id": "cWaFPVSAA05w"
      },
      "source": [
        "#### **Exercise**:"
      ]
    },
    {
      "cell_type": "markdown",
      "metadata": {
        "id": "e7-wh76RD4pj"
      },
      "source": [
        "Now use the [MNIST digits]( http://yann.lecun.com/exdb/mnist/) dataset to train a NN model.  Make sure to:\n",
        "-\tPerform any data preprocessing if necessary\n",
        "-\tMake sure your model does not take more than 5mins to train (using CPU). See the training time at the end.\n",
        "-\tMake sure your results are reproducible\n",
        "-\tMake sure to plot the Loss and performance metric of your model\n"
      ]
    },
    {
      "cell_type": "code",
      "metadata": {
        "id": "vKC5NtcOCs4n",
        "colab": {
          "base_uri": "https://localhost:8080/",
          "height": 643
        },
        "outputId": "f9c0076d-ca24-4296-f443-01e709da2d77"
      },
      "source": [
        "from torch.utils.tensorboard import SummaryWriter\n",
        "writer = SummaryWriter()\n",
        "\n",
        "# Start timing\n",
        "tic = time.process_time()\n",
        "\n",
        "# Set seeds\n",
        "torch.manual_seed(42)\n",
        "np.random.seed(42)\n",
        "\n",
        "# Load raw MNIST data as NumPy arrays\n",
        "mnist = datasets.MNIST(root='.', train=True, download=True)\n",
        "X_full = mnist.data.numpy()\n",
        "y_full = mnist.targets.numpy()\n",
        "\n",
        "mnist_test = datasets.MNIST(root='.', train=False, download=True)\n",
        "X_test = mnist_test.data.numpy()\n",
        "y_test = mnist_test.targets.numpy()\n",
        "\n",
        "# Normalize (match X = X / 255. behavior)\n",
        "X_full = X_full.astype(np.float32) / 255.\n",
        "X_test = X_test.astype(np.float32) / 255.\n",
        "\n",
        "# Train/validation split\n",
        "X_valid, X_train = X_full[:5000], X_full[5000:]\n",
        "y_valid, y_train = y_full[:5000], y_full[5000:]\n",
        "\n",
        "# Convert to PyTorch tensors and add channel dimension\n",
        "X_train_tensor = torch.tensor(X_train).unsqueeze(1)  # shape: [N, 1, 28, 28]\n",
        "X_valid_tensor = torch.tensor(X_valid).unsqueeze(1)\n",
        "X_test_tensor = torch.tensor(X_test).unsqueeze(1)\n",
        "\n",
        "y_train_tensor = torch.tensor(y_train)\n",
        "y_valid_tensor = torch.tensor(y_valid)\n",
        "y_test_tensor = torch.tensor(y_test)\n",
        "\n",
        "# DataLoaders\n",
        "train_loader = DataLoader(TensorDataset(X_train_tensor, y_train_tensor), batch_size=64, shuffle=True)\n",
        "valid_loader = DataLoader(TensorDataset(X_valid_tensor, y_valid_tensor), batch_size=64)\n",
        "test_loader = DataLoader(TensorDataset(X_test_tensor, y_test_tensor), batch_size=64)\n",
        "\n",
        "# Define model with dropout\n",
        "model = nn.Sequential(\n",
        "    nn.Flatten(),\n",
        "    nn.Linear(28 * 28, 100),\n",
        "    nn.ReLU(),\n",
        "    nn.Dropout(0.3),\n",
        "    nn.Linear(100, 10),\n",
        "    nn.Softmax(dim=1)\n",
        ")\n",
        "\n",
        "# Loss and optimizer\n",
        "loss_fn = nn.CrossEntropyLoss()\n",
        "optimizer = optim.SGD(model.parameters(), lr=0.01)\n",
        "\n",
        "# History tracking\n",
        "history = {\n",
        "    'loss': [],\n",
        "    'val_loss': [],\n",
        "    'accuracy': [],\n",
        "    'val_accuracy': [],\n",
        "    'params': {\n",
        "        'epochs': 5,\n",
        "        'batch_size': 64,\n",
        "        'verbose': 1\n",
        "    }\n",
        "}\n",
        "\n",
        "# for early stopping\n",
        "best_val_loss = float('inf')\n",
        "patience = 3\n",
        "epochs_without_improvement = 0\n",
        "\n",
        "# Training loop\n",
        "for epoch in range(history['params']['epochs']):\n",
        "    model.train()\n",
        "    total_loss = 0\n",
        "    correct = 0\n",
        "    total = 0\n",
        "\n",
        "    for X_batch, y_batch in train_loader:\n",
        "        optimizer.zero_grad()\n",
        "        y_pred = model(X_batch)\n",
        "        loss = loss_fn(y_pred, y_batch)\n",
        "        loss.backward()\n",
        "        optimizer.step()\n",
        "\n",
        "        total_loss += loss.item()\n",
        "        correct += (y_pred.argmax(1) == y_batch).sum().item()\n",
        "        total += y_batch.size(0)\n",
        "\n",
        "    avg_loss = total_loss / len(train_loader)\n",
        "    accuracy = correct / total\n",
        "\n",
        "    # Validation\n",
        "    model.eval()\n",
        "    val_loss = 0\n",
        "    val_correct = 0\n",
        "    val_total = 0\n",
        "    with torch.no_grad():\n",
        "        for X_batch, y_batch in valid_loader:\n",
        "            y_pred = model(X_batch)\n",
        "            loss = loss_fn(y_pred, y_batch)\n",
        "            val_loss += loss.item()\n",
        "            val_correct += (y_pred.argmax(1) == y_batch).sum().item()\n",
        "            val_total += y_batch.size(0)\n",
        "\n",
        "    avg_val_loss = val_loss / len(valid_loader)\n",
        "    val_accuracy = val_correct / val_total\n",
        "\n",
        "    # Store history\n",
        "    history['loss'].append(avg_loss)\n",
        "    history['accuracy'].append(accuracy)\n",
        "    history['val_loss'].append(avg_val_loss)\n",
        "    history['val_accuracy'].append(val_accuracy)\n",
        "\n",
        "    # Print progress\n",
        "    if history['params']['verbose']:\n",
        "        print(f\"Epoch {epoch+1}/{history['params']['epochs']}\")\n",
        "        print(f\"loss: {avg_loss:.4f} - accuracy: {accuracy:.4f} - val_loss: {avg_val_loss:.4f} - val_accuracy: {val_accuracy:.4f}\")\n",
        "\n",
        "    # add to tensorboard\n",
        "    writer.add_scalar('Loss/train', avg_loss, epoch)\n",
        "    writer.add_scalar('Accuracy/train', accuracy, epoch)\n",
        "    writer.add_scalar('Loss/val', avg_val_loss, epoch)\n",
        "    writer.add_scalar('Accuracy/val', val_accuracy, epoch)\n",
        "\n",
        "    #save checkpoint\n",
        "    if val_loss < best_val_loss:\n",
        "        torch.save(model.state_dict(), \"best_model.pth\")\n",
        "\n",
        "    #early stoppping\n",
        "    if avg_val_loss < best_val_loss:\n",
        "        best_val_loss = avg_val_loss\n",
        "        epochs_without_improvement = 0\n",
        "        torch.save(model.state_dict(), \"best_model.pth\")\n",
        "    else:\n",
        "        epochs_without_improvement += 1\n",
        "        if epochs_without_improvement >= patience:\n",
        "            print(\"Early stopping triggered.\")\n",
        "            break\n",
        "\n",
        "# Plot results\n",
        "df = pd.DataFrame({\n",
        "    'loss': history['loss'],\n",
        "    'val_loss': history['val_loss'],\n",
        "    'accuracy': history['accuracy'],\n",
        "    'val_accuracy': history['val_accuracy']\n",
        "})\n",
        "df.plot(figsize=(8, 5))\n",
        "plt.grid(True)\n",
        "plt.ylim(0, 1)\n",
        "plt.show()\n",
        "\n",
        "# End timing\n",
        "toc = time.process_time()\n",
        "total_time = toc - tic\n",
        "print(\"Time to train the model:\" + str(total_time) + \"s\")\n",
        "writer.close()"
      ],
      "execution_count": 42,
      "outputs": [
        {
          "output_type": "stream",
          "name": "stdout",
          "text": [
            "Epoch 1/5\n",
            "loss: 2.2931 - accuracy: 0.2101 - val_loss: 2.2800 - val_accuracy: 0.3354\n",
            "Epoch 2/5\n",
            "loss: 2.2430 - accuracy: 0.3633 - val_loss: 2.1794 - val_accuracy: 0.3880\n",
            "Epoch 3/5\n",
            "loss: 2.1031 - accuracy: 0.4932 - val_loss: 1.9965 - val_accuracy: 0.6388\n",
            "Epoch 4/5\n",
            "loss: 1.9451 - accuracy: 0.6249 - val_loss: 1.8650 - val_accuracy: 0.6594\n",
            "Epoch 5/5\n",
            "loss: 1.8683 - accuracy: 0.6512 - val_loss: 1.8094 - val_accuracy: 0.7232\n"
          ]
        },
        {
          "output_type": "display_data",
          "data": {
            "text/plain": [
              "<Figure size 800x500 with 1 Axes>"
            ],
            "image/png": "[encoded data removed]"
          },
          "metadata": {}
        },
        {
          "output_type": "stream",
          "name": "stdout",
          "text": [
            "Time to train the model:10.737135324000008s\n"
          ]
        }
      ]
    },
    {
      "cell_type": "markdown",
      "metadata": {
        "id": "BQOiBJe7CtXe"
      },
      "source": [
        "#### 4.1- Model’s Performance"
      ]
    },
    {
      "cell_type": "code",
      "metadata": {
        "id": "xwJblbg4Cn1y",
        "colab": {
          "base_uri": "https://localhost:8080/"
        },
        "outputId": "0c949569-9fad-47b5-9007-20fe17def717"
      },
      "source": [
        "# load saved model from training\n",
        "model.load_state_dict(torch.load(\"best_model.pth\"))\n",
        "\n",
        "# Ensure model is in evaluation mode\n",
        "model.eval()\n",
        "\n",
        "test_loss = 0\n",
        "test_correct = 0\n",
        "test_total = 0\n",
        "\n",
        "with torch.no_grad():\n",
        "    for X_batch, y_batch in test_loader:  # test_loader was defined earlier\n",
        "        y_pred = model(X_batch)\n",
        "        loss = loss_fn(y_pred, y_batch)\n",
        "        test_loss += loss.item()\n",
        "        test_correct += (y_pred.argmax(1) == y_batch).sum().item()\n",
        "        test_total += y_batch.size(0)\n",
        "\n",
        "avg_test_loss = test_loss / len(test_loader)\n",
        "test_accuracy = test_correct / test_total\n",
        "\n",
        "print(f\"Test loss: {avg_test_loss:.4f}\")\n",
        "print(f\"Test accuracy: {test_accuracy:.4f}\")\n"
      ],
      "execution_count": 43,
      "outputs": [
        {
          "output_type": "stream",
          "name": "stdout",
          "text": [
            "Test loss: 1.8124\n",
            "Test accuracy: 0.7221\n"
          ]
        }
      ]
    },
    {
      "cell_type": "code",
      "metadata": {
        "id": "R8U3DpZErAxU",
        "colab": {
          "base_uri": "https://localhost:8080/"
        },
        "outputId": "a838c384-0cbf-4cec-c121-5d9f33f93da4"
      },
      "source": [
        "y_proba"
      ],
      "execution_count": 44,
      "outputs": [
        {
          "output_type": "execute_result",
          "data": {
            "text/plain": [
              "tensor([[0.0212, 0.0133, 0.0617, 0.0482, 0.0334, 0.7108, 0.0312, 0.0305, 0.0378,\n",
              "         0.0120],\n",
              "        [0.0210, 0.0122, 0.0666, 0.0484, 0.0326, 0.7141, 0.0304, 0.0255, 0.0386,\n",
              "         0.0105],\n",
              "        [0.0230, 0.0149, 0.0657, 0.0522, 0.0353, 0.6949, 0.0330, 0.0308, 0.0383,\n",
              "         0.0119]])"
            ]
          },
          "metadata": {},
          "execution_count": 44
        }
      ]
    },
    {
      "cell_type": "code",
      "metadata": {
        "id": "YKN0OrTyC02I",
        "colab": {
          "base_uri": "https://localhost:8080/",
          "height": 223
        },
        "outputId": "e474bd08-47f1-4f6e-a826-b87cf34d8a60"
      },
      "source": [
        "import matplotlib.pyplot as plt\n",
        "\n",
        "# Select first 3 test samples\n",
        "# Use X_test_tensor (PyTorch tensor) instead of X_test (NumPy array)\n",
        "X_new = torch.stack([X_test_tensor[i][0] for i in range(3)])  # shape: [3, 1, 28, 28]\n",
        "\n",
        "# Predict probabilities\n",
        "model.eval()\n",
        "with torch.no_grad():\n",
        "    y_proba = model(X_new)\n",
        "\n",
        "# Get predicted class labels\n",
        "y_pred = y_proba.argmax(dim=1)\n",
        "\n",
        "# Plot setup (actual images plotted next if needed)\n",
        "plt.figure(figsize=(7.2, 2.4))\n",
        "\n",
        "\n",
        "y_new = y_test[:3]\n",
        "\n",
        "for index, image in enumerate(X_new):\n",
        "    plt.subplot(1, 3, index + 1)\n",
        "    # Squeeze the image tensor to remove the channel dimension before displaying\n",
        "    plt.imshow(image.squeeze(0), cmap=\"binary\", interpolation=\"nearest\")\n",
        "    plt.axis('off')\n",
        "    plt.title(class_names[y_pred[index]], fontsize=12)\n",
        "plt.subplots_adjust(wspace=0.2, hspace=0.5)\n",
        "plt.show()"
      ],
      "execution_count": 45,
      "outputs": [
        {
          "output_type": "display_data",
          "data": {
            "text/plain": [
              "<Figure size 720x240 with 3 Axes>"
            ],
            "image/png": "[encoded data removed]"
          },
          "metadata": {}
        }
      ]
    },
    {
      "cell_type": "markdown",
      "metadata": {
        "id": "Jy5f7p4SGizB"
      },
      "source": [
        "###### **DO NOT DELETE NOR MODIFY THESE CODE CELLS**\n"
      ]
    },
    {
      "cell_type": "code",
      "metadata": {
        "id": "x5_oXq-aGiij",
        "colab": {
          "base_uri": "https://localhost:8080/"
        },
        "outputId": "67cc91e4-9c4e-4029-aa85-93c7654f4f4d"
      },
      "source": [
        "\n",
        "# # ###DO NOT DELETE NOR MODIFY THIS CODE CELL####\n",
        "!git clone https://github.com/lopezbec/Intro_toNN_Keras\n",
        "%cd Intro_toNN_Keras\n",
        "from GRADING import GRADING\n",
        "\n",
        "try:\n",
        "    per_clf\n",
        "except:\n",
        "    per_clf=None\n",
        "try:\n",
        "    tanh\n",
        "except:\n",
        "    tanh=None\n",
        "try:\n",
        "    ReLu\n",
        "except:\n",
        "    ReLu=None\n",
        "try:\n",
        "    LeakyRelu\n",
        "except:\n",
        "    LeakyRelu=None\n",
        "try:\n",
        "    derivative\n",
        "except:\n",
        "    derivative=None\n",
        "try:\n",
        "    X_train\n",
        "except:\n",
        "    X_train=None\n",
        "try:\n",
        "    total_time\n",
        "except:\n",
        "    total_time=None\n",
        "\n",
        "GRADING(per_clf,tanh,ReLu,LeakyRelu,derivative,X_train)\n",
        "print(\"TIME <5?=\",total_time<5*60)\n"
      ],
      "execution_count": 46,
      "outputs": [
        {
          "output_type": "stream",
          "name": "stdout",
          "text": [
            "fatal: destination path 'Intro_toNN_Keras' already exists and is not an empty directory.\n",
            "/content/Intro_toNN_Keras\n",
            "Peceptron : True\n",
            "tanh : True\n",
            "ReLu : True\n",
            "LeakyRelu : True\n",
            "derivative : True\n",
            "X_train_prepro : True\n",
            "LOOK AT PLOT & TIME <300s| 5min\n",
            "TIME <5?= True\n"
          ]
        }
      ]
    }
  ]
}